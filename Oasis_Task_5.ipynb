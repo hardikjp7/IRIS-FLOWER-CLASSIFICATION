{
  "nbformat": 4,
  "nbformat_minor": 0,
  "metadata": {
    "colab": {
      "provenance": []
    },
    "kernelspec": {
      "name": "python3",
      "display_name": "Python 3"
    },
    "language_info": {
      "name": "python"
    }
  },
  "cells": [
    {
      "cell_type": "markdown",
      "source": [
        "# **Name : Hardik Parmar**\n",
        "# **Task-5 : Sales prediction using Python**"
      ],
      "metadata": {
        "id": "7Ev0jKwSSqYz"
      }
    },
    {
      "cell_type": "code",
      "source": [
        "import pandas as pd\n",
        "\n",
        "import numpy as np\n",
        "\n",
        "import warnings\n",
        "\n",
        "warnings.filterwarnings('ignore')"
      ],
      "metadata": {
        "id": "tBpR4LinSqMH"
      },
      "execution_count": null,
      "outputs": []
    },
    {
      "cell_type": "code",
      "source": [
        "df = pd.read_csv('/content/Advertising.csv')"
      ],
      "metadata": {
        "id": "6sL7wKS9SqI-"
      },
      "execution_count": null,
      "outputs": []
    },
    {
      "cell_type": "code",
      "source": [
        "df.head()"
      ],
      "metadata": {
        "colab": {
          "base_uri": "https://localhost:8080/",
          "height": 206
        },
        "id": "VyB644dFSqGA",
        "outputId": "b91d0330-7c09-4e94-9a57-219809e9bcb0"
      },
      "execution_count": null,
      "outputs": [
        {
          "output_type": "execute_result",
          "data": {
            "text/plain": [
              "   Unnamed: 0     TV  Radio  Newspaper  Sales\n",
              "0           1  230.1   37.8       69.2   22.1\n",
              "1           2   44.5   39.3       45.1   10.4\n",
              "2           3   17.2   45.9       69.3    9.3\n",
              "3           4  151.5   41.3       58.5   18.5\n",
              "4           5  180.8   10.8       58.4   12.9"
            ],
            "text/html": [
              "\n",
              "  <div id=\"df-9daa78cc-fcc4-49a4-ada8-bd39a8bb78d4\">\n",
              "    <div class=\"colab-df-container\">\n",
              "      <div>\n",
              "<style scoped>\n",
              "    .dataframe tbody tr th:only-of-type {\n",
              "        vertical-align: middle;\n",
              "    }\n",
              "\n",
              "    .dataframe tbody tr th {\n",
              "        vertical-align: top;\n",
              "    }\n",
              "\n",
              "    .dataframe thead th {\n",
              "        text-align: right;\n",
              "    }\n",
              "</style>\n",
              "<table border=\"1\" class=\"dataframe\">\n",
              "  <thead>\n",
              "    <tr style=\"text-align: right;\">\n",
              "      <th></th>\n",
              "      <th>Unnamed: 0</th>\n",
              "      <th>TV</th>\n",
              "      <th>Radio</th>\n",
              "      <th>Newspaper</th>\n",
              "      <th>Sales</th>\n",
              "    </tr>\n",
              "  </thead>\n",
              "  <tbody>\n",
              "    <tr>\n",
              "      <th>0</th>\n",
              "      <td>1</td>\n",
              "      <td>230.1</td>\n",
              "      <td>37.8</td>\n",
              "      <td>69.2</td>\n",
              "      <td>22.1</td>\n",
              "    </tr>\n",
              "    <tr>\n",
              "      <th>1</th>\n",
              "      <td>2</td>\n",
              "      <td>44.5</td>\n",
              "      <td>39.3</td>\n",
              "      <td>45.1</td>\n",
              "      <td>10.4</td>\n",
              "    </tr>\n",
              "    <tr>\n",
              "      <th>2</th>\n",
              "      <td>3</td>\n",
              "      <td>17.2</td>\n",
              "      <td>45.9</td>\n",
              "      <td>69.3</td>\n",
              "      <td>9.3</td>\n",
              "    </tr>\n",
              "    <tr>\n",
              "      <th>3</th>\n",
              "      <td>4</td>\n",
              "      <td>151.5</td>\n",
              "      <td>41.3</td>\n",
              "      <td>58.5</td>\n",
              "      <td>18.5</td>\n",
              "    </tr>\n",
              "    <tr>\n",
              "      <th>4</th>\n",
              "      <td>5</td>\n",
              "      <td>180.8</td>\n",
              "      <td>10.8</td>\n",
              "      <td>58.4</td>\n",
              "      <td>12.9</td>\n",
              "    </tr>\n",
              "  </tbody>\n",
              "</table>\n",
              "</div>\n",
              "      <button class=\"colab-df-convert\" onclick=\"convertToInteractive('df-9daa78cc-fcc4-49a4-ada8-bd39a8bb78d4')\"\n",
              "              title=\"Convert this dataframe to an interactive table.\"\n",
              "              style=\"display:none;\">\n",
              "        \n",
              "  <svg xmlns=\"http://www.w3.org/2000/svg\" height=\"24px\"viewBox=\"0 0 24 24\"\n",
              "       width=\"24px\">\n",
              "    <path d=\"M0 0h24v24H0V0z\" fill=\"none\"/>\n",
              "    <path d=\"M18.56 5.44l.94 2.06.94-2.06 2.06-.94-2.06-.94-.94-2.06-.94 2.06-2.06.94zm-11 1L8.5 8.5l.94-2.06 2.06-.94-2.06-.94L8.5 2.5l-.94 2.06-2.06.94zm10 10l.94 2.06.94-2.06 2.06-.94-2.06-.94-.94-2.06-.94 2.06-2.06.94z\"/><path d=\"M17.41 7.96l-1.37-1.37c-.4-.4-.92-.59-1.43-.59-.52 0-1.04.2-1.43.59L10.3 9.45l-7.72 7.72c-.78.78-.78 2.05 0 2.83L4 21.41c.39.39.9.59 1.41.59.51 0 1.02-.2 1.41-.59l7.78-7.78 2.81-2.81c.8-.78.8-2.07 0-2.86zM5.41 20L4 18.59l7.72-7.72 1.47 1.35L5.41 20z\"/>\n",
              "  </svg>\n",
              "      </button>\n",
              "      \n",
              "  <style>\n",
              "    .colab-df-container {\n",
              "      display:flex;\n",
              "      flex-wrap:wrap;\n",
              "      gap: 12px;\n",
              "    }\n",
              "\n",
              "    .colab-df-convert {\n",
              "      background-color: #E8F0FE;\n",
              "      border: none;\n",
              "      border-radius: 50%;\n",
              "      cursor: pointer;\n",
              "      display: none;\n",
              "      fill: #1967D2;\n",
              "      height: 32px;\n",
              "      padding: 0 0 0 0;\n",
              "      width: 32px;\n",
              "    }\n",
              "\n",
              "    .colab-df-convert:hover {\n",
              "      background-color: #E2EBFA;\n",
              "      box-shadow: 0px 1px 2px rgba(60, 64, 67, 0.3), 0px 1px 3px 1px rgba(60, 64, 67, 0.15);\n",
              "      fill: #174EA6;\n",
              "    }\n",
              "\n",
              "    [theme=dark] .colab-df-convert {\n",
              "      background-color: #3B4455;\n",
              "      fill: #D2E3FC;\n",
              "    }\n",
              "\n",
              "    [theme=dark] .colab-df-convert:hover {\n",
              "      background-color: #434B5C;\n",
              "      box-shadow: 0px 1px 3px 1px rgba(0, 0, 0, 0.15);\n",
              "      filter: drop-shadow(0px 1px 2px rgba(0, 0, 0, 0.3));\n",
              "      fill: #FFFFFF;\n",
              "    }\n",
              "  </style>\n",
              "\n",
              "      <script>\n",
              "        const buttonEl =\n",
              "          document.querySelector('#df-9daa78cc-fcc4-49a4-ada8-bd39a8bb78d4 button.colab-df-convert');\n",
              "        buttonEl.style.display =\n",
              "          google.colab.kernel.accessAllowed ? 'block' : 'none';\n",
              "\n",
              "        async function convertToInteractive(key) {\n",
              "          const element = document.querySelector('#df-9daa78cc-fcc4-49a4-ada8-bd39a8bb78d4');\n",
              "          const dataTable =\n",
              "            await google.colab.kernel.invokeFunction('convertToInteractive',\n",
              "                                                     [key], {});\n",
              "          if (!dataTable) return;\n",
              "\n",
              "          const docLinkHtml = 'Like what you see? Visit the ' +\n",
              "            '<a target=\"_blank\" href=https://colab.research.google.com/notebooks/data_table.ipynb>data table notebook</a>'\n",
              "            + ' to learn more about interactive tables.';\n",
              "          element.innerHTML = '';\n",
              "          dataTable['output_type'] = 'display_data';\n",
              "          await google.colab.output.renderOutput(dataTable, element);\n",
              "          const docLink = document.createElement('div');\n",
              "          docLink.innerHTML = docLinkHtml;\n",
              "          element.appendChild(docLink);\n",
              "        }\n",
              "      </script>\n",
              "    </div>\n",
              "  </div>\n",
              "  "
            ]
          },
          "metadata": {},
          "execution_count": 8
        }
      ]
    },
    {
      "cell_type": "code",
      "source": [
        "df.shape"
      ],
      "metadata": {
        "colab": {
          "base_uri": "https://localhost:8080/"
        },
        "id": "eVx37877Sp_P",
        "outputId": "314d9954-81a7-45bf-fc99-b5012d56f75c"
      },
      "execution_count": null,
      "outputs": [
        {
          "output_type": "execute_result",
          "data": {
            "text/plain": [
              "(200, 5)"
            ]
          },
          "metadata": {},
          "execution_count": 4
        }
      ]
    },
    {
      "cell_type": "code",
      "source": [
        "df.columns.values.tolist()"
      ],
      "metadata": {
        "colab": {
          "base_uri": "https://localhost:8080/"
        },
        "id": "EXNV5IXFSp8I",
        "outputId": "289902bf-8458-4026-d675-779d846cc1e2"
      },
      "execution_count": null,
      "outputs": [
        {
          "output_type": "execute_result",
          "data": {
            "text/plain": [
              "['Unnamed: 0', 'TV', 'Radio', 'Newspaper', 'Sales']"
            ]
          },
          "metadata": {},
          "execution_count": 5
        }
      ]
    },
    {
      "cell_type": "code",
      "source": [
        "df.info()"
      ],
      "metadata": {
        "colab": {
          "base_uri": "https://localhost:8080/"
        },
        "id": "ciHOn1C6Sp4p",
        "outputId": "5d2cf318-13a9-4072-ccc7-6c39241cd25f"
      },
      "execution_count": null,
      "outputs": [
        {
          "output_type": "stream",
          "name": "stdout",
          "text": [
            "<class 'pandas.core.frame.DataFrame'>\n",
            "RangeIndex: 200 entries, 0 to 199\n",
            "Data columns (total 5 columns):\n",
            " #   Column      Non-Null Count  Dtype  \n",
            "---  ------      --------------  -----  \n",
            " 0   Unnamed: 0  200 non-null    int64  \n",
            " 1   TV          200 non-null    float64\n",
            " 2   Radio       200 non-null    float64\n",
            " 3   Newspaper   200 non-null    float64\n",
            " 4   Sales       200 non-null    float64\n",
            "dtypes: float64(4), int64(1)\n",
            "memory usage: 7.9 KB\n"
          ]
        }
      ]
    },
    {
      "cell_type": "code",
      "source": [
        "df.describe()"
      ],
      "metadata": {
        "colab": {
          "base_uri": "https://localhost:8080/",
          "height": 300
        },
        "id": "aisxhZGGSp1o",
        "outputId": "355c10fa-8cb0-43e2-d049-6185b8b8faa0"
      },
      "execution_count": null,
      "outputs": [
        {
          "output_type": "execute_result",
          "data": {
            "text/plain": [
              "       Unnamed: 0          TV       Radio   Newspaper       Sales\n",
              "count  200.000000  200.000000  200.000000  200.000000  200.000000\n",
              "mean   100.500000  147.042500   23.264000   30.554000   14.022500\n",
              "std     57.879185   85.854236   14.846809   21.778621    5.217457\n",
              "min      1.000000    0.700000    0.000000    0.300000    1.600000\n",
              "25%     50.750000   74.375000    9.975000   12.750000   10.375000\n",
              "50%    100.500000  149.750000   22.900000   25.750000   12.900000\n",
              "75%    150.250000  218.825000   36.525000   45.100000   17.400000\n",
              "max    200.000000  296.400000   49.600000  114.000000   27.000000"
            ],
            "text/html": [
              "\n",
              "  <div id=\"df-0a9c3644-0e00-4552-947f-3fa532b0e85e\">\n",
              "    <div class=\"colab-df-container\">\n",
              "      <div>\n",
              "<style scoped>\n",
              "    .dataframe tbody tr th:only-of-type {\n",
              "        vertical-align: middle;\n",
              "    }\n",
              "\n",
              "    .dataframe tbody tr th {\n",
              "        vertical-align: top;\n",
              "    }\n",
              "\n",
              "    .dataframe thead th {\n",
              "        text-align: right;\n",
              "    }\n",
              "</style>\n",
              "<table border=\"1\" class=\"dataframe\">\n",
              "  <thead>\n",
              "    <tr style=\"text-align: right;\">\n",
              "      <th></th>\n",
              "      <th>Unnamed: 0</th>\n",
              "      <th>TV</th>\n",
              "      <th>Radio</th>\n",
              "      <th>Newspaper</th>\n",
              "      <th>Sales</th>\n",
              "    </tr>\n",
              "  </thead>\n",
              "  <tbody>\n",
              "    <tr>\n",
              "      <th>count</th>\n",
              "      <td>200.000000</td>\n",
              "      <td>200.000000</td>\n",
              "      <td>200.000000</td>\n",
              "      <td>200.000000</td>\n",
              "      <td>200.000000</td>\n",
              "    </tr>\n",
              "    <tr>\n",
              "      <th>mean</th>\n",
              "      <td>100.500000</td>\n",
              "      <td>147.042500</td>\n",
              "      <td>23.264000</td>\n",
              "      <td>30.554000</td>\n",
              "      <td>14.022500</td>\n",
              "    </tr>\n",
              "    <tr>\n",
              "      <th>std</th>\n",
              "      <td>57.879185</td>\n",
              "      <td>85.854236</td>\n",
              "      <td>14.846809</td>\n",
              "      <td>21.778621</td>\n",
              "      <td>5.217457</td>\n",
              "    </tr>\n",
              "    <tr>\n",
              "      <th>min</th>\n",
              "      <td>1.000000</td>\n",
              "      <td>0.700000</td>\n",
              "      <td>0.000000</td>\n",
              "      <td>0.300000</td>\n",
              "      <td>1.600000</td>\n",
              "    </tr>\n",
              "    <tr>\n",
              "      <th>25%</th>\n",
              "      <td>50.750000</td>\n",
              "      <td>74.375000</td>\n",
              "      <td>9.975000</td>\n",
              "      <td>12.750000</td>\n",
              "      <td>10.375000</td>\n",
              "    </tr>\n",
              "    <tr>\n",
              "      <th>50%</th>\n",
              "      <td>100.500000</td>\n",
              "      <td>149.750000</td>\n",
              "      <td>22.900000</td>\n",
              "      <td>25.750000</td>\n",
              "      <td>12.900000</td>\n",
              "    </tr>\n",
              "    <tr>\n",
              "      <th>75%</th>\n",
              "      <td>150.250000</td>\n",
              "      <td>218.825000</td>\n",
              "      <td>36.525000</td>\n",
              "      <td>45.100000</td>\n",
              "      <td>17.400000</td>\n",
              "    </tr>\n",
              "    <tr>\n",
              "      <th>max</th>\n",
              "      <td>200.000000</td>\n",
              "      <td>296.400000</td>\n",
              "      <td>49.600000</td>\n",
              "      <td>114.000000</td>\n",
              "      <td>27.000000</td>\n",
              "    </tr>\n",
              "  </tbody>\n",
              "</table>\n",
              "</div>\n",
              "      <button class=\"colab-df-convert\" onclick=\"convertToInteractive('df-0a9c3644-0e00-4552-947f-3fa532b0e85e')\"\n",
              "              title=\"Convert this dataframe to an interactive table.\"\n",
              "              style=\"display:none;\">\n",
              "        \n",
              "  <svg xmlns=\"http://www.w3.org/2000/svg\" height=\"24px\"viewBox=\"0 0 24 24\"\n",
              "       width=\"24px\">\n",
              "    <path d=\"M0 0h24v24H0V0z\" fill=\"none\"/>\n",
              "    <path d=\"M18.56 5.44l.94 2.06.94-2.06 2.06-.94-2.06-.94-.94-2.06-.94 2.06-2.06.94zm-11 1L8.5 8.5l.94-2.06 2.06-.94-2.06-.94L8.5 2.5l-.94 2.06-2.06.94zm10 10l.94 2.06.94-2.06 2.06-.94-2.06-.94-.94-2.06-.94 2.06-2.06.94z\"/><path d=\"M17.41 7.96l-1.37-1.37c-.4-.4-.92-.59-1.43-.59-.52 0-1.04.2-1.43.59L10.3 9.45l-7.72 7.72c-.78.78-.78 2.05 0 2.83L4 21.41c.39.39.9.59 1.41.59.51 0 1.02-.2 1.41-.59l7.78-7.78 2.81-2.81c.8-.78.8-2.07 0-2.86zM5.41 20L4 18.59l7.72-7.72 1.47 1.35L5.41 20z\"/>\n",
              "  </svg>\n",
              "      </button>\n",
              "      \n",
              "  <style>\n",
              "    .colab-df-container {\n",
              "      display:flex;\n",
              "      flex-wrap:wrap;\n",
              "      gap: 12px;\n",
              "    }\n",
              "\n",
              "    .colab-df-convert {\n",
              "      background-color: #E8F0FE;\n",
              "      border: none;\n",
              "      border-radius: 50%;\n",
              "      cursor: pointer;\n",
              "      display: none;\n",
              "      fill: #1967D2;\n",
              "      height: 32px;\n",
              "      padding: 0 0 0 0;\n",
              "      width: 32px;\n",
              "    }\n",
              "\n",
              "    .colab-df-convert:hover {\n",
              "      background-color: #E2EBFA;\n",
              "      box-shadow: 0px 1px 2px rgba(60, 64, 67, 0.3), 0px 1px 3px 1px rgba(60, 64, 67, 0.15);\n",
              "      fill: #174EA6;\n",
              "    }\n",
              "\n",
              "    [theme=dark] .colab-df-convert {\n",
              "      background-color: #3B4455;\n",
              "      fill: #D2E3FC;\n",
              "    }\n",
              "\n",
              "    [theme=dark] .colab-df-convert:hover {\n",
              "      background-color: #434B5C;\n",
              "      box-shadow: 0px 1px 3px 1px rgba(0, 0, 0, 0.15);\n",
              "      filter: drop-shadow(0px 1px 2px rgba(0, 0, 0, 0.3));\n",
              "      fill: #FFFFFF;\n",
              "    }\n",
              "  </style>\n",
              "\n",
              "      <script>\n",
              "        const buttonEl =\n",
              "          document.querySelector('#df-0a9c3644-0e00-4552-947f-3fa532b0e85e button.colab-df-convert');\n",
              "        buttonEl.style.display =\n",
              "          google.colab.kernel.accessAllowed ? 'block' : 'none';\n",
              "\n",
              "        async function convertToInteractive(key) {\n",
              "          const element = document.querySelector('#df-0a9c3644-0e00-4552-947f-3fa532b0e85e');\n",
              "          const dataTable =\n",
              "            await google.colab.kernel.invokeFunction('convertToInteractive',\n",
              "                                                     [key], {});\n",
              "          if (!dataTable) return;\n",
              "\n",
              "          const docLinkHtml = 'Like what you see? Visit the ' +\n",
              "            '<a target=\"_blank\" href=https://colab.research.google.com/notebooks/data_table.ipynb>data table notebook</a>'\n",
              "            + ' to learn more about interactive tables.';\n",
              "          element.innerHTML = '';\n",
              "          dataTable['output_type'] = 'display_data';\n",
              "          await google.colab.output.renderOutput(dataTable, element);\n",
              "          const docLink = document.createElement('div');\n",
              "          docLink.innerHTML = docLinkHtml;\n",
              "          element.appendChild(docLink);\n",
              "        }\n",
              "      </script>\n",
              "    </div>\n",
              "  </div>\n",
              "  "
            ]
          },
          "metadata": {},
          "execution_count": 9
        }
      ]
    },
    {
      "cell_type": "code",
      "source": [
        "df.isnull().sum()"
      ],
      "metadata": {
        "colab": {
          "base_uri": "https://localhost:8080/"
        },
        "id": "jjJSFF5VSpyp",
        "outputId": "aeeeaf1f-d4fe-400f-8a0c-432302fe825b"
      },
      "execution_count": null,
      "outputs": [
        {
          "output_type": "execute_result",
          "data": {
            "text/plain": [
              "Unnamed: 0    0\n",
              "TV            0\n",
              "Radio         0\n",
              "Newspaper     0\n",
              "Sales         0\n",
              "dtype: int64"
            ]
          },
          "metadata": {},
          "execution_count": 10
        }
      ]
    },
    {
      "cell_type": "code",
      "source": [
        "import matplotlib.pyplot as plt\n",
        "import seaborn as sns"
      ],
      "metadata": {
        "id": "-YiEWV_DSpvj"
      },
      "execution_count": null,
      "outputs": []
    },
    {
      "cell_type": "code",
      "source": [
        "fig, axs = plt.subplots(3, figsize = (5,5))\n",
        "plt1 = sns.boxplot(df['TV'], ax = axs[0])\n",
        "plt2 = sns.boxplot(df['Newspaper'], ax = axs[1])\n",
        "plt3 = sns.boxplot(df['Radio'], ax = axs[2])\n",
        "plt.tight_layout()"
      ],
      "metadata": {
        "colab": {
          "base_uri": "https://localhost:8080/",
          "height": 506
        },
        "id": "ZPLU1EcPSpsU",
        "outputId": "f62e3191-952f-4e88-e410-924a29123486"
      },
      "execution_count": null,
      "outputs": [
        {
          "output_type": "display_data",
          "data": {
            "text/plain": [
              "<Figure size 500x500 with 3 Axes>"
            ],
            "image/png": "[encoded data removed]"
          },
          "metadata": {}
        }
      ]
    },
    {
      "cell_type": "code",
      "source": [
        "sns.distplot(df['Newspaper'])"
      ],
      "metadata": {
        "colab": {
          "base_uri": "https://localhost:8080/",
          "height": 466
        },
        "id": "QtThfOQjSppS",
        "outputId": "d7bd7dc5-7281-43b5-e459-5f5c68a0a040"
      },
      "execution_count": null,
      "outputs": [
        {
          "output_type": "execute_result",
          "data": {
            "text/plain": [
              "<Axes: xlabel='Newspaper', ylabel='Density'>"
            ]
          },
          "metadata": {},
          "execution_count": 14
        },
        {
          "output_type": "display_data",
          "data": {
            "text/plain": [
              "<Figure size 640x480 with 1 Axes>"
            ],
            "image/png": "[encoded data removed]"
          },
          "metadata": {}
        }
      ]
    },
    {
      "cell_type": "code",
      "source": [
        "igr = df.Newspaper.quantile(0.75) - df.Newspaper.quantile(0.25)"
      ],
      "metadata": {
        "id": "u5l2FN0DSpmB"
      },
      "execution_count": null,
      "outputs": []
    },
    {
      "cell_type": "code",
      "source": [
        "lower_bridge = df[\"Newspaper\"].quantile(0.25) - (igr*1.5)\n",
        "upper_bridge = df[\"Newspaper\"].quantile(0.75) + (igr*1.5)\n",
        "print(lower_bridge)\n",
        "print(upper_bridge)"
      ],
      "metadata": {
        "colab": {
          "base_uri": "https://localhost:8080/"
        },
        "id": "UhxwvCDISpix",
        "outputId": "024b0230-005b-461d-c200-4e3b8902cc7a"
      },
      "execution_count": null,
      "outputs": [
        {
          "output_type": "stream",
          "name": "stdout",
          "text": [
            "-35.775000000000006\n",
            "93.625\n"
          ]
        }
      ]
    },
    {
      "cell_type": "code",
      "source": [
        "data = df.copy()"
      ],
      "metadata": {
        "id": "x1zdydPSSpfq"
      },
      "execution_count": null,
      "outputs": []
    },
    {
      "cell_type": "code",
      "source": [
        "data.loc[data['Newspaper']>=93, 'Newspaper']=93"
      ],
      "metadata": {
        "id": "0QKlvsWjSpcz"
      },
      "execution_count": null,
      "outputs": []
    },
    {
      "cell_type": "code",
      "source": [
        "sns.boxplot(data[ 'Newspaper'])"
      ],
      "metadata": {
        "colab": {
          "base_uri": "https://localhost:8080/",
          "height": 447
        },
        "id": "HAr2kJKMSpWg",
        "outputId": "4cf424e8-3b7f-4ae7-e674-6402194f904e"
      },
      "execution_count": null,
      "outputs": [
        {
          "output_type": "execute_result",
          "data": {
            "text/plain": [
              "<Axes: >"
            ]
          },
          "metadata": {},
          "execution_count": 19
        },
        {
          "output_type": "display_data",
          "data": {
            "text/plain": [
              "<Figure size 640x480 with 1 Axes>"
            ],
            "image/png": "[encoded data removed]"
          },
          "metadata": {}
        }
      ]
    },
    {
      "cell_type": "code",
      "source": [
        "sns.pairplot(data, x_vars=['TV', 'Newspaper', 'Radio'],\n",
        "      y_vars='Sales', height=4, aspect=1, kind='scatter')\n",
        "plt.show()"
      ],
      "metadata": {
        "colab": {
          "base_uri": "https://localhost:8080/",
          "height": 415
        },
        "id": "Ym-crIFIUH_v",
        "outputId": "2cc63e1b-4672-4238-c465-986524795f88"
      },
      "execution_count": null,
      "outputs": [
        {
          "output_type": "display_data",
          "data": {
            "text/plain": [
              "<Figure size 1200x400 with 3 Axes>"
            ],
            "image/png": "[encoded data removed]"
          },
          "metadata": {}
        }
      ]
    },
    {
      "cell_type": "code",
      "source": [
        "sns.heatmap(data.corr(), cmap=\"YlGnBu\", annot = True)\n",
        "plt.show()"
      ],
      "metadata": {
        "colab": {
          "base_uri": "https://localhost:8080/",
          "height": 435
        },
        "id": "3z7hh2RMUN65",
        "outputId": "eeb474c7-6c6d-4d81-d3a4-e507b98a3bec"
      },
      "execution_count": null,
      "outputs": [
        {
          "output_type": "display_data",
          "data": {
            "text/plain": [
              "<Figure size 640x480 with 2 Axes>"
            ],
            "image/png": "[encoded data removed]"
          },
          "metadata": {}
        }
      ]
    },
    {
      "cell_type": "code",
      "source": [
        "important_features = list(df.corr()['Sales'][(df.corr()[ 'Sales' ]>+0.5)|(df.corr()[ 'Sales' ]<-0.5)].index)"
      ],
      "metadata": {
        "id": "yryIk3THUWgm"
      },
      "execution_count": null,
      "outputs": []
    },
    {
      "cell_type": "code",
      "source": [
        "print(important_features)"
      ],
      "metadata": {
        "colab": {
          "base_uri": "https://localhost:8080/"
        },
        "id": "Kfa9kf2QUa_Z",
        "outputId": "ff5ca2a2-f2c3-4979-f7b9-0043b26e1ea0"
      },
      "execution_count": null,
      "outputs": [
        {
          "output_type": "stream",
          "name": "stdout",
          "text": [
            "['TV', 'Radio', 'Sales']\n"
          ]
        }
      ]
    },
    {
      "cell_type": "code",
      "source": [
        "X = data['TV']\n",
        "Y = data['Sales']"
      ],
      "metadata": {
        "id": "dLrmNrThUoMH"
      },
      "execution_count": null,
      "outputs": []
    },
    {
      "cell_type": "code",
      "source": [
        "X = X.values.reshape(-1,1)"
      ],
      "metadata": {
        "id": "0t1O1GiUUoPf"
      },
      "execution_count": null,
      "outputs": []
    },
    {
      "cell_type": "code",
      "source": [
        "X"
      ],
      "metadata": {
        "colab": {
          "base_uri": "https://localhost:8080/"
        },
        "id": "W1LhR0mkUoUj",
        "outputId": "3fae4d52-14b1-4266-f6c4-375527cc38d8"
      },
      "execution_count": null,
      "outputs": [
        {
          "output_type": "execute_result",
          "data": {
            "text/plain": [
              "array([[230.1],\n",
              "       [ 44.5],\n",
              "       [ 17.2],\n",
              "       [151.5],\n",
              "       [180.8],\n",
              "       [  8.7],\n",
              "       [ 57.5],\n",
              "       [120.2],\n",
              "       [  8.6],\n",
              "       [199.8],\n",
              "       [ 66.1],\n",
              "       [214.7],\n",
              "       [ 23.8],\n",
              "       [ 97.5],\n",
              "       [204.1],\n",
              "       [195.4],\n",
              "       [ 67.8],\n",
              "       [281.4],\n",
              "       [ 69.2],\n",
              "       [147.3],\n",
              "       [218.4],\n",
              "       [237.4],\n",
              "       [ 13.2],\n",
              "       [228.3],\n",
              "       [ 62.3],\n",
              "       [262.9],\n",
              "       [142.9],\n",
              "       [240.1],\n",
              "       [248.8],\n",
              "       [ 70.6],\n",
              "       [292.9],\n",
              "       [112.9],\n",
              "       [ 97.2],\n",
              "       [265.6],\n",
              "       [ 95.7],\n",
              "       [290.7],\n",
              "       [266.9],\n",
              "       [ 74.7],\n",
              "       [ 43.1],\n",
              "       [228. ],\n",
              "       [202.5],\n",
              "       [177. ],\n",
              "       [293.6],\n",
              "       [206.9],\n",
              "       [ 25.1],\n",
              "       [175.1],\n",
              "       [ 89.7],\n",
              "       [239.9],\n",
              "       [227.2],\n",
              "       [ 66.9],\n",
              "       [199.8],\n",
              "       [100.4],\n",
              "       [216.4],\n",
              "       [182.6],\n",
              "       [262.7],\n",
              "       [198.9],\n",
              "       [  7.3],\n",
              "       [136.2],\n",
              "       [210.8],\n",
              "       [210.7],\n",
              "       [ 53.5],\n",
              "       [261.3],\n",
              "       [239.3],\n",
              "       [102.7],\n",
              "       [131.1],\n",
              "       [ 69. ],\n",
              "       [ 31.5],\n",
              "       [139.3],\n",
              "       [237.4],\n",
              "       [216.8],\n",
              "       [199.1],\n",
              "       [109.8],\n",
              "       [ 26.8],\n",
              "       [129.4],\n",
              "       [213.4],\n",
              "       [ 16.9],\n",
              "       [ 27.5],\n",
              "       [120.5],\n",
              "       [  5.4],\n",
              "       [116. ],\n",
              "       [ 76.4],\n",
              "       [239.8],\n",
              "       [ 75.3],\n",
              "       [ 68.4],\n",
              "       [213.5],\n",
              "       [193.2],\n",
              "       [ 76.3],\n",
              "       [110.7],\n",
              "       [ 88.3],\n",
              "       [109.8],\n",
              "       [134.3],\n",
              "       [ 28.6],\n",
              "       [217.7],\n",
              "       [250.9],\n",
              "       [107.4],\n",
              "       [163.3],\n",
              "       [197.6],\n",
              "       [184.9],\n",
              "       [289.7],\n",
              "       [135.2],\n",
              "       [222.4],\n",
              "       [296.4],\n",
              "       [280.2],\n",
              "       [187.9],\n",
              "       [238.2],\n",
              "       [137.9],\n",
              "       [ 25. ],\n",
              "       [ 90.4],\n",
              "       [ 13.1],\n",
              "       [255.4],\n",
              "       [225.8],\n",
              "       [241.7],\n",
              "       [175.7],\n",
              "       [209.6],\n",
              "       [ 78.2],\n",
              "       [ 75.1],\n",
              "       [139.2],\n",
              "       [ 76.4],\n",
              "       [125.7],\n",
              "       [ 19.4],\n",
              "       [141.3],\n",
              "       [ 18.8],\n",
              "       [224. ],\n",
              "       [123.1],\n",
              "       [229.5],\n",
              "       [ 87.2],\n",
              "       [  7.8],\n",
              "       [ 80.2],\n",
              "       [220.3],\n",
              "       [ 59.6],\n",
              "       [  0.7],\n",
              "       [265.2],\n",
              "       [  8.4],\n",
              "       [219.8],\n",
              "       [ 36.9],\n",
              "       [ 48.3],\n",
              "       [ 25.6],\n",
              "       [273.7],\n",
              "       [ 43. ],\n",
              "       [184.9],\n",
              "       [ 73.4],\n",
              "       [193.7],\n",
              "       [220.5],\n",
              "       [104.6],\n",
              "       [ 96.2],\n",
              "       [140.3],\n",
              "       [240.1],\n",
              "       [243.2],\n",
              "       [ 38. ],\n",
              "       [ 44.7],\n",
              "       [280.7],\n",
              "       [121. ],\n",
              "       [197.6],\n",
              "       [171.3],\n",
              "       [187.8],\n",
              "       [  4.1],\n",
              "       [ 93.9],\n",
              "       [149.8],\n",
              "       [ 11.7],\n",
              "       [131.7],\n",
              "       [172.5],\n",
              "       [ 85.7],\n",
              "       [188.4],\n",
              "       [163.5],\n",
              "       [117.2],\n",
              "       [234.5],\n",
              "       [ 17.9],\n",
              "       [206.8],\n",
              "       [215.4],\n",
              "       [284.3],\n",
              "       [ 50. ],\n",
              "       [164.5],\n",
              "       [ 19.6],\n",
              "       [168.4],\n",
              "       [222.4],\n",
              "       [276.9],\n",
              "       [248.4],\n",
              "       [170.2],\n",
              "       [276.7],\n",
              "       [165.6],\n",
              "       [156.6],\n",
              "       [218.5],\n",
              "       [ 56.2],\n",
              "       [287.6],\n",
              "       [253.8],\n",
              "       [205. ],\n",
              "       [139.5],\n",
              "       [191.1],\n",
              "       [286. ],\n",
              "       [ 18.7],\n",
              "       [ 39.5],\n",
              "       [ 75.5],\n",
              "       [ 17.2],\n",
              "       [166.8],\n",
              "       [149.7],\n",
              "       [ 38.2],\n",
              "       [ 94.2],\n",
              "       [177. ],\n",
              "       [283.6],\n",
              "       [232.1]])"
            ]
          },
          "metadata": {},
          "execution_count": 27
        }
      ]
    },
    {
      "cell_type": "code",
      "source": [
        "Y"
      ],
      "metadata": {
        "colab": {
          "base_uri": "https://localhost:8080/"
        },
        "id": "dZSQO7cqUoYV",
        "outputId": "3312c3f4-f5ce-4919-b2f4-8c1eee0f6cd3"
      },
      "execution_count": null,
      "outputs": [
        {
          "output_type": "execute_result",
          "data": {
            "text/plain": [
              "0      22.1\n",
              "1      10.4\n",
              "2       9.3\n",
              "3      18.5\n",
              "4      12.9\n",
              "       ... \n",
              "195     7.6\n",
              "196     9.7\n",
              "197    12.8\n",
              "198    25.5\n",
              "199    13.4\n",
              "Name: Sales, Length: 200, dtype: float64"
            ]
          },
          "metadata": {},
          "execution_count": 28
        }
      ]
    },
    {
      "cell_type": "code",
      "source": [
        "print(X.shape,Y.shape)"
      ],
      "metadata": {
        "colab": {
          "base_uri": "https://localhost:8080/"
        },
        "id": "j_LSPw_KUofJ",
        "outputId": "9ccda5e1-4591-44a4-f736-029a8ae84cf4"
      },
      "execution_count": null,
      "outputs": [
        {
          "output_type": "stream",
          "name": "stdout",
          "text": [
            "(200, 1) (200,)\n"
          ]
        }
      ]
    },
    {
      "cell_type": "code",
      "source": [
        "from sklearn.model_selection import train_test_split\n",
        "X_train,X_test,Y_train,Y_test=train_test_split(X,Y, test_size=0.33)"
      ],
      "metadata": {
        "id": "FMprU95DU5-S"
      },
      "execution_count": null,
      "outputs": []
    },
    {
      "cell_type": "code",
      "source": [
        "print(X_train.shape,Y_train.shape)"
      ],
      "metadata": {
        "colab": {
          "base_uri": "https://localhost:8080/"
        },
        "id": "-KHdq4ZxU6B3",
        "outputId": "3ee3fa2e-ea97-4d03-9999-c7470de5b171"
      },
      "execution_count": null,
      "outputs": [
        {
          "output_type": "stream",
          "name": "stdout",
          "text": [
            "(134, 1) (134,)\n"
          ]
        }
      ]
    },
    {
      "cell_type": "code",
      "source": [
        "from sklearn.metrics import mean_squared_error , r2_score\n",
        "from sklearn.model_selection import cross_val_score,GridSearchCV\n",
        "from sklearn.neighbors import KNeighborsRegressor\n",
        "from sklearn.svm import SVR\n",
        "from sklearn.tree import DecisionTreeRegressor\n",
        "from sklearn.ensemble import RandomForestRegressor\n"
      ],
      "metadata": {
        "id": "RmdQ8XrgU6Fa"
      },
      "execution_count": null,
      "outputs": []
    },
    {
      "cell_type": "code",
      "source": [
        "knn = KNeighborsRegressor().fit(X_train, Y_train)\n",
        "knn\n"
      ],
      "metadata": {
        "colab": {
          "base_uri": "https://localhost:8080/",
          "height": 75
        },
        "id": "dq9Wa2hsVBlX",
        "outputId": "edbe7e06-dd1d-4157-e0ca-012048320c52"
      },
      "execution_count": null,
      "outputs": [
        {
          "output_type": "execute_result",
          "data": {
            "text/plain": [
              "KNeighborsRegressor()"
            ],
            "text/html": [
              "<style>#sk-container-id-1 {color: black;background-color: white;}#sk-container-id-1 pre{padding: 0;}#sk-container-id-1 div.sk-toggleable {background-color: white;}#sk-container-id-1 label.sk-toggleable__label {cursor: pointer;display: block;width: 100%;margin-bottom: 0;padding: 0.3em;box-sizing: border-box;text-align: center;}#sk-container-id-1 label.sk-toggleable__label-arrow:before {content: \"▸\";float: left;margin-right: 0.25em;color: #696969;}#sk-container-id-1 label.sk-toggleable__label-arrow:hover:before {color: black;}#sk-container-id-1 div.sk-estimator:hover label.sk-toggleable__label-arrow:before {color: black;}#sk-container-id-1 div.sk-toggleable__content {max-height: 0;max-width: 0;overflow: hidden;text-align: left;background-color: #f0f8ff;}#sk-container-id-1 div.sk-toggleable__content pre {margin: 0.2em;color: black;border-radius: 0.25em;background-color: #f0f8ff;}#sk-container-id-1 input.sk-toggleable__control:checked~div.sk-toggleable__content {max-height: 200px;max-width: 100%;overflow: auto;}#sk-container-id-1 input.sk-toggleable__control:checked~label.sk-toggleable__label-arrow:before {content: \"▾\";}#sk-container-id-1 div.sk-estimator input.sk-toggleable__control:checked~label.sk-toggleable__label {background-color: #d4ebff;}#sk-container-id-1 div.sk-label input.sk-toggleable__control:checked~label.sk-toggleable__label {background-color: #d4ebff;}#sk-container-id-1 input.sk-hidden--visually {border: 0;clip: rect(1px 1px 1px 1px);clip: rect(1px, 1px, 1px, 1px);height: 1px;margin: -1px;overflow: hidden;padding: 0;position: absolute;width: 1px;}#sk-container-id-1 div.sk-estimator {font-family: monospace;background-color: #f0f8ff;border: 1px dotted black;border-radius: 0.25em;box-sizing: border-box;margin-bottom: 0.5em;}#sk-container-id-1 div.sk-estimator:hover {background-color: #d4ebff;}#sk-container-id-1 div.sk-parallel-item::after {content: \"\";width: 100%;border-bottom: 1px solid gray;flex-grow: 1;}#sk-container-id-1 div.sk-label:hover label.sk-toggleable__label {background-color: #d4ebff;}#sk-container-id-1 div.sk-serial::before {content: \"\";position: absolute;border-left: 1px solid gray;box-sizing: border-box;top: 0;bottom: 0;left: 50%;z-index: 0;}#sk-container-id-1 div.sk-serial {display: flex;flex-direction: column;align-items: center;background-color: white;padding-right: 0.2em;padding-left: 0.2em;position: relative;}#sk-container-id-1 div.sk-item {position: relative;z-index: 1;}#sk-container-id-1 div.sk-parallel {display: flex;align-items: stretch;justify-content: center;background-color: white;position: relative;}#sk-container-id-1 div.sk-item::before, #sk-container-id-1 div.sk-parallel-item::before {content: \"\";position: absolute;border-left: 1px solid gray;box-sizing: border-box;top: 0;bottom: 0;left: 50%;z-index: -1;}#sk-container-id-1 div.sk-parallel-item {display: flex;flex-direction: column;z-index: 1;position: relative;background-color: white;}#sk-container-id-1 div.sk-parallel-item:first-child::after {align-self: flex-end;width: 50%;}#sk-container-id-1 div.sk-parallel-item:last-child::after {align-self: flex-start;width: 50%;}#sk-container-id-1 div.sk-parallel-item:only-child::after {width: 0;}#sk-container-id-1 div.sk-dashed-wrapped {border: 1px dashed gray;margin: 0 0.4em 0.5em 0.4em;box-sizing: border-box;padding-bottom: 0.4em;background-color: white;}#sk-container-id-1 div.sk-label label {font-family: monospace;font-weight: bold;display: inline-block;line-height: 1.2em;}#sk-container-id-1 div.sk-label-container {text-align: center;}#sk-container-id-1 div.sk-container {/* jupyter's `normalize.less` sets `[hidden] { display: none; }` but bootstrap.min.css set `[hidden] { display: none !important; }` so we also need the `!important` here to be able to override the default hidden behavior on the sphinx rendered scikit-learn.org. See: https://github.com/scikit-learn/scikit-learn/issues/21755 */display: inline-block !important;position: relative;}#sk-container-id-1 div.sk-text-repr-fallback {display: none;}</style><div id=\"sk-container-id-1\" class=\"sk-top-container\"><div class=\"sk-text-repr-fallback\"><pre>KNeighborsRegressor()</pre><b>In a Jupyter environment, please rerun this cell to show the HTML representation or trust the notebook. <br />On GitHub, the HTML representation is unable to render, please try loading this page with nbviewer.org.</b></div><div class=\"sk-container\" hidden><div class=\"sk-item\"><div class=\"sk-estimator sk-toggleable\"><input class=\"sk-toggleable__control sk-hidden--visually\" id=\"sk-estimator-id-1\" type=\"checkbox\" checked><label for=\"sk-estimator-id-1\" class=\"sk-toggleable__label sk-toggleable__label-arrow\">KNeighborsRegressor</label><div class=\"sk-toggleable__content\"><pre>KNeighborsRegressor()</pre></div></div></div></div></div>"
            ]
          },
          "metadata": {},
          "execution_count": 33
        }
      ]
    },
    {
      "cell_type": "code",
      "source": [
        "knn_train_pred = knn.predict(X_train)"
      ],
      "metadata": {
        "id": "RzNIMpvKVBpo"
      },
      "execution_count": null,
      "outputs": []
    },
    {
      "cell_type": "code",
      "source": [
        "Results = pd.DataFrame(columns=[\"Model\",\"Train R2\",\"Test R2\",\"Test RMSE\", \"Variance\"])"
      ],
      "metadata": {
        "id": "5ESmb5O9VBuo"
      },
      "execution_count": null,
      "outputs": []
    },
    {
      "cell_type": "code",
      "source": [
        "knn_test_pred  = knn.predict(X_test)"
      ],
      "metadata": {
        "id": "mTZZ0ggLVByy"
      },
      "execution_count": null,
      "outputs": []
    },
    {
      "cell_type": "code",
      "source": [
        "print(knn_train_pred, knn_test_pred)"
      ],
      "metadata": {
        "colab": {
          "base_uri": "https://localhost:8080/"
        },
        "id": "yg1rBEOkVB5D",
        "outputId": "c3d916d6-4f5c-4fb6-cb50-6c033e7a04e3"
      },
      "execution_count": null,
      "outputs": [
        {
          "output_type": "stream",
          "name": "stdout",
          "text": [
            "[18.34 13.4  20.58 20.64 19.76 20.58 15.96  7.72 15.6  16.18 19.36 11.1\n",
            " 19.12 10.18 18.3   7.88  5.96 16.1  14.58  4.94 16.64 11.06 15.9  17.52\n",
            " 15.9  14.8  17.52 11.8  11.06 15.36 21.06 14.08 18.34 15.18 11.38 17.78\n",
            " 11.38 17.   15.34 10.5  17.24 16.24  5.96 13.48  7.72  9.88 13.52 16.64\n",
            " 17.78  5.96 18.34 15.18 17.   11.6  13.4  11.44  9.98 17.24  7.3   9.46\n",
            " 11.44 11.38 18.92 20.58 13.18 17.24  7.88 17.24 18.38 13.76  7.34 20.64\n",
            "  7.88 19.12  5.58  5.96 18.72 18.34 19.36  7.38  7.52 11.44 20.7  14.8\n",
            " 16.64  9.6  10.02 18.92 17.04 18.3   7.3   9.98 15.74 14.26 10.88 15.34\n",
            " 13.18 19.96 19.76 13.4  17.78 14.26 18.34 13.18 21.34  7.52 15.56 16.64\n",
            "  7.52 18.3  11.44 11.38  7.72 10.02 18.3  14.16 17.52 11.1  13.2  13.48\n",
            " 15.96 11.26 11.44 15.38 15.38  5.96 11.44 14.9  11.1  17.52 13.48 15.74\n",
            "  9.6  11.44] [18.12  9.6  16.1  18.38 17.78 14.08  5.98 14.72 15.38  4.94 11.06 17.24\n",
            " 11.38 19.68 14.8  18.34  7.88 15.32 10.02 11.38 15.38 13.48 18.12 15.56\n",
            " 19.68  7.3  11.38 12.74 11.38 17.04 21.06 16.58 13.48 14.26 18.72 14.26\n",
            " 15.18 10.02  7.34 10.1  21.34 15.96 13.52 13.2  13.18 17.04 16.28 10.1\n",
            "  7.52 15.6   9.6  15.9  13.48 17.   11.38 14.16  9.88  7.88 17.04 13.64\n",
            " 14.08 14.58 11.44 17.24 11.44 10.74]\n"
          ]
        }
      ]
    },
    {
      "cell_type": "code",
      "source": [
        "r2 = r2_score(Y_test,knn_test_pred)\n",
        "r2_train = r2_score(Y_train, knn_train_pred)\n",
        "rmse = np.sqrt(mean_squared_error(Y_test,knn_test_pred))\n",
        "variance = r2_train - r2\n",
        "Results = Results.append({\"Model\":\"K-Nearest Neighbors\",\"Train R2\":r2_train,\"Test R2\":r2,\"Test RMSE\":rmse,\"Variance\":variance},ignore_index=True)\n",
        "print(\"R2:\",r2)\n",
        "print(\"RMSE:\",rmse),"
      ],
      "metadata": {
        "colab": {
          "base_uri": "https://localhost:8080/"
        },
        "id": "sqI0eRUyVTDe",
        "outputId": "410415f2-488b-4750-f26f-0dc2d8ecf145"
      },
      "execution_count": null,
      "outputs": [
        {
          "output_type": "stream",
          "name": "stdout",
          "text": [
            "R2: 0.5220307895523801\n",
            "RMSE: 3.418020869840713\n"
          ]
        },
        {
          "output_type": "execute_result",
          "data": {
            "text/plain": [
              "(None,)"
            ]
          },
          "metadata": {},
          "execution_count": 38
        }
      ]
    },
    {
      "cell_type": "code",
      "source": [
        "Results.head()"
      ],
      "metadata": {
        "colab": {
          "base_uri": "https://localhost:8080/",
          "height": 81
        },
        "id": "11pSwJSZVTJY",
        "outputId": "3eb9ee65-f93b-40d1-f421-b48483dad722"
      },
      "execution_count": null,
      "outputs": [
        {
          "output_type": "execute_result",
          "data": {
            "text/plain": [
              "                 Model  Train R2   Test R2  Test RMSE  Variance\n",
              "0  K-Nearest Neighbors  0.649249  0.522031   3.418021  0.127218"
            ],
            "text/html": [
              "\n",
              "  <div id=\"df-ad8fa1a7-06d2-46d6-a3f9-5cfa3e550474\">\n",
              "    <div class=\"colab-df-container\">\n",
              "      <div>\n",
              "<style scoped>\n",
              "    .dataframe tbody tr th:only-of-type {\n",
              "        vertical-align: middle;\n",
              "    }\n",
              "\n",
              "    .dataframe tbody tr th {\n",
              "        vertical-align: top;\n",
              "    }\n",
              "\n",
              "    .dataframe thead th {\n",
              "        text-align: right;\n",
              "    }\n",
              "</style>\n",
              "<table border=\"1\" class=\"dataframe\">\n",
              "  <thead>\n",
              "    <tr style=\"text-align: right;\">\n",
              "      <th></th>\n",
              "      <th>Model</th>\n",
              "      <th>Train R2</th>\n",
              "      <th>Test R2</th>\n",
              "      <th>Test RMSE</th>\n",
              "      <th>Variance</th>\n",
              "    </tr>\n",
              "  </thead>\n",
              "  <tbody>\n",
              "    <tr>\n",
              "      <th>0</th>\n",
              "      <td>K-Nearest Neighbors</td>\n",
              "      <td>0.649249</td>\n",
              "      <td>0.522031</td>\n",
              "      <td>3.418021</td>\n",
              "      <td>0.127218</td>\n",
              "    </tr>\n",
              "  </tbody>\n",
              "</table>\n",
              "</div>\n",
              "      <button class=\"colab-df-convert\" onclick=\"convertToInteractive('df-ad8fa1a7-06d2-46d6-a3f9-5cfa3e550474')\"\n",
              "              title=\"Convert this dataframe to an interactive table.\"\n",
              "              style=\"display:none;\">\n",
              "        \n",
              "  <svg xmlns=\"http://www.w3.org/2000/svg\" height=\"24px\"viewBox=\"0 0 24 24\"\n",
              "       width=\"24px\">\n",
              "    <path d=\"M0 0h24v24H0V0z\" fill=\"none\"/>\n",
              "    <path d=\"M18.56 5.44l.94 2.06.94-2.06 2.06-.94-2.06-.94-.94-2.06-.94 2.06-2.06.94zm-11 1L8.5 8.5l.94-2.06 2.06-.94-2.06-.94L8.5 2.5l-.94 2.06-2.06.94zm10 10l.94 2.06.94-2.06 2.06-.94-2.06-.94-.94-2.06-.94 2.06-2.06.94z\"/><path d=\"M17.41 7.96l-1.37-1.37c-.4-.4-.92-.59-1.43-.59-.52 0-1.04.2-1.43.59L10.3 9.45l-7.72 7.72c-.78.78-.78 2.05 0 2.83L4 21.41c.39.39.9.59 1.41.59.51 0 1.02-.2 1.41-.59l7.78-7.78 2.81-2.81c.8-.78.8-2.07 0-2.86zM5.41 20L4 18.59l7.72-7.72 1.47 1.35L5.41 20z\"/>\n",
              "  </svg>\n",
              "      </button>\n",
              "      \n",
              "  <style>\n",
              "    .colab-df-container {\n",
              "      display:flex;\n",
              "      flex-wrap:wrap;\n",
              "      gap: 12px;\n",
              "    }\n",
              "\n",
              "    .colab-df-convert {\n",
              "      background-color: #E8F0FE;\n",
              "      border: none;\n",
              "      border-radius: 50%;\n",
              "      cursor: pointer;\n",
              "      display: none;\n",
              "      fill: #1967D2;\n",
              "      height: 32px;\n",
              "      padding: 0 0 0 0;\n",
              "      width: 32px;\n",
              "    }\n",
              "\n",
              "    .colab-df-convert:hover {\n",
              "      background-color: #E2EBFA;\n",
              "      box-shadow: 0px 1px 2px rgba(60, 64, 67, 0.3), 0px 1px 3px 1px rgba(60, 64, 67, 0.15);\n",
              "      fill: #174EA6;\n",
              "    }\n",
              "\n",
              "    [theme=dark] .colab-df-convert {\n",
              "      background-color: #3B4455;\n",
              "      fill: #D2E3FC;\n",
              "    }\n",
              "\n",
              "    [theme=dark] .colab-df-convert:hover {\n",
              "      background-color: #434B5C;\n",
              "      box-shadow: 0px 1px 3px 1px rgba(0, 0, 0, 0.15);\n",
              "      filter: drop-shadow(0px 1px 2px rgba(0, 0, 0, 0.3));\n",
              "      fill: #FFFFFF;\n",
              "    }\n",
              "  </style>\n",
              "\n",
              "      <script>\n",
              "        const buttonEl =\n",
              "          document.querySelector('#df-ad8fa1a7-06d2-46d6-a3f9-5cfa3e550474 button.colab-df-convert');\n",
              "        buttonEl.style.display =\n",
              "          google.colab.kernel.accessAllowed ? 'block' : 'none';\n",
              "\n",
              "        async function convertToInteractive(key) {\n",
              "          const element = document.querySelector('#df-ad8fa1a7-06d2-46d6-a3f9-5cfa3e550474');\n",
              "          const dataTable =\n",
              "            await google.colab.kernel.invokeFunction('convertToInteractive',\n",
              "                                                     [key], {});\n",
              "          if (!dataTable) return;\n",
              "\n",
              "          const docLinkHtml = 'Like what you see? Visit the ' +\n",
              "            '<a target=\"_blank\" href=https://colab.research.google.com/notebooks/data_table.ipynb>data table notebook</a>'\n",
              "            + ' to learn more about interactive tables.';\n",
              "          element.innerHTML = '';\n",
              "          dataTable['output_type'] = 'display_data';\n",
              "          await google.colab.output.renderOutput(dataTable, element);\n",
              "          const docLink = document.createElement('div');\n",
              "          docLink.innerHTML = docLinkHtml;\n",
              "          element.appendChild(docLink);\n",
              "        }\n",
              "      </script>\n",
              "    </div>\n",
              "  </div>\n",
              "  "
            ]
          },
          "metadata": {},
          "execution_count": 39
        }
      ]
    },
    {
      "cell_type": "code",
      "source": [
        "svr = SVR().fit(X_train,Y_train)\n",
        "svr"
      ],
      "metadata": {
        "colab": {
          "base_uri": "https://localhost:8080/",
          "height": 75
        },
        "id": "eGN1YMoIVTRR",
        "outputId": "a5dc8b1f-bd4e-44a8-dc3c-5004e5fce4cd"
      },
      "execution_count": null,
      "outputs": [
        {
          "output_type": "execute_result",
          "data": {
            "text/plain": [
              "SVR()"
            ],
            "text/html": [
              "<style>#sk-container-id-2 {color: black;background-color: white;}#sk-container-id-2 pre{padding: 0;}#sk-container-id-2 div.sk-toggleable {background-color: white;}#sk-container-id-2 label.sk-toggleable__label {cursor: pointer;display: block;width: 100%;margin-bottom: 0;padding: 0.3em;box-sizing: border-box;text-align: center;}#sk-container-id-2 label.sk-toggleable__label-arrow:before {content: \"▸\";float: left;margin-right: 0.25em;color: #696969;}#sk-container-id-2 label.sk-toggleable__label-arrow:hover:before {color: black;}#sk-container-id-2 div.sk-estimator:hover label.sk-toggleable__label-arrow:before {color: black;}#sk-container-id-2 div.sk-toggleable__content {max-height: 0;max-width: 0;overflow: hidden;text-align: left;background-color: #f0f8ff;}#sk-container-id-2 div.sk-toggleable__content pre {margin: 0.2em;color: black;border-radius: 0.25em;background-color: #f0f8ff;}#sk-container-id-2 input.sk-toggleable__control:checked~div.sk-toggleable__content {max-height: 200px;max-width: 100%;overflow: auto;}#sk-container-id-2 input.sk-toggleable__control:checked~label.sk-toggleable__label-arrow:before {content: \"▾\";}#sk-container-id-2 div.sk-estimator input.sk-toggleable__control:checked~label.sk-toggleable__label {background-color: #d4ebff;}#sk-container-id-2 div.sk-label input.sk-toggleable__control:checked~label.sk-toggleable__label {background-color: #d4ebff;}#sk-container-id-2 input.sk-hidden--visually {border: 0;clip: rect(1px 1px 1px 1px);clip: rect(1px, 1px, 1px, 1px);height: 1px;margin: -1px;overflow: hidden;padding: 0;position: absolute;width: 1px;}#sk-container-id-2 div.sk-estimator {font-family: monospace;background-color: #f0f8ff;border: 1px dotted black;border-radius: 0.25em;box-sizing: border-box;margin-bottom: 0.5em;}#sk-container-id-2 div.sk-estimator:hover {background-color: #d4ebff;}#sk-container-id-2 div.sk-parallel-item::after {content: \"\";width: 100%;border-bottom: 1px solid gray;flex-grow: 1;}#sk-container-id-2 div.sk-label:hover label.sk-toggleable__label {background-color: #d4ebff;}#sk-container-id-2 div.sk-serial::before {content: \"\";position: absolute;border-left: 1px solid gray;box-sizing: border-box;top: 0;bottom: 0;left: 50%;z-index: 0;}#sk-container-id-2 div.sk-serial {display: flex;flex-direction: column;align-items: center;background-color: white;padding-right: 0.2em;padding-left: 0.2em;position: relative;}#sk-container-id-2 div.sk-item {position: relative;z-index: 1;}#sk-container-id-2 div.sk-parallel {display: flex;align-items: stretch;justify-content: center;background-color: white;position: relative;}#sk-container-id-2 div.sk-item::before, #sk-container-id-2 div.sk-parallel-item::before {content: \"\";position: absolute;border-left: 1px solid gray;box-sizing: border-box;top: 0;bottom: 0;left: 50%;z-index: -1;}#sk-container-id-2 div.sk-parallel-item {display: flex;flex-direction: column;z-index: 1;position: relative;background-color: white;}#sk-container-id-2 div.sk-parallel-item:first-child::after {align-self: flex-end;width: 50%;}#sk-container-id-2 div.sk-parallel-item:last-child::after {align-self: flex-start;width: 50%;}#sk-container-id-2 div.sk-parallel-item:only-child::after {width: 0;}#sk-container-id-2 div.sk-dashed-wrapped {border: 1px dashed gray;margin: 0 0.4em 0.5em 0.4em;box-sizing: border-box;padding-bottom: 0.4em;background-color: white;}#sk-container-id-2 div.sk-label label {font-family: monospace;font-weight: bold;display: inline-block;line-height: 1.2em;}#sk-container-id-2 div.sk-label-container {text-align: center;}#sk-container-id-2 div.sk-container {/* jupyter's `normalize.less` sets `[hidden] { display: none; }` but bootstrap.min.css set `[hidden] { display: none !important; }` so we also need the `!important` here to be able to override the default hidden behavior on the sphinx rendered scikit-learn.org. See: https://github.com/scikit-learn/scikit-learn/issues/21755 */display: inline-block !important;position: relative;}#sk-container-id-2 div.sk-text-repr-fallback {display: none;}</style><div id=\"sk-container-id-2\" class=\"sk-top-container\"><div class=\"sk-text-repr-fallback\"><pre>SVR()</pre><b>In a Jupyter environment, please rerun this cell to show the HTML representation or trust the notebook. <br />On GitHub, the HTML representation is unable to render, please try loading this page with nbviewer.org.</b></div><div class=\"sk-container\" hidden><div class=\"sk-item\"><div class=\"sk-estimator sk-toggleable\"><input class=\"sk-toggleable__control sk-hidden--visually\" id=\"sk-estimator-id-2\" type=\"checkbox\" checked><label for=\"sk-estimator-id-2\" class=\"sk-toggleable__label sk-toggleable__label-arrow\">SVR</label><div class=\"sk-toggleable__content\"><pre>SVR()</pre></div></div></div></div></div>"
            ]
          },
          "metadata": {},
          "execution_count": 40
        }
      ]
    },
    {
      "cell_type": "code",
      "source": [
        "svr_train_pred = svr.predict(X_train)\n",
        "svr_test_pred = svr.predict(X_test)"
      ],
      "metadata": {
        "id": "DPD2Ir6MVTXL"
      },
      "execution_count": null,
      "outputs": []
    },
    {
      "cell_type": "code",
      "source": [
        "print(svr_train_pred,svr_test_pred)"
      ],
      "metadata": {
        "colab": {
          "base_uri": "https://localhost:8080/"
        },
        "id": "rqQ-AC7iVTdG",
        "outputId": "869c9672-dd5e-4839-a63e-b50e84606d83"
      },
      "execution_count": null,
      "outputs": [
        {
          "output_type": "stream",
          "name": "stdout",
          "text": [
            "[17.34554991 12.50027863 17.47203652 16.90317521 17.11405522 17.47233836\n",
            " 16.43003137  7.28582207 15.36135445 14.33549587 16.82005595 11.60984844\n",
            " 16.89592379 11.80502004 16.99557504  7.6939988   7.09944228 17.32944355\n",
            " 13.32491401  7.02595201 16.70096725  9.94971922 17.25692441 17.13706638\n",
            " 17.28501548 16.46171578 16.30430029 12.21263018  9.83989772 15.74578512\n",
            " 17.45594627 13.82945483 17.38464595 14.44186312 10.39493708 16.68054436\n",
            " 10.44631676 16.04245993 15.02808916  9.42243416 17.44327186 14.74257169\n",
            "  7.07928856 14.01928529  7.28582207  9.03875229 12.54913285 15.31602138\n",
            " 16.46865725  7.09486646 17.35178261 14.52101399 16.0232997  10.31129309\n",
            " 12.50027863 10.13066153 11.72855728 17.43004527  7.54719608  8.72265605\n",
            " 10.02727622 10.50402108 17.08639629 17.47270214 13.08933847 17.42822562\n",
            "  7.64751048 17.42730202 16.24189642 14.13783347  7.18466749 16.90027886\n",
            "  7.82309082 16.91782568  7.05685204  7.0861352  16.84131425 17.40449028\n",
            " 16.82309486  7.30589704  7.35122846 11.38083389 17.01911667 16.46171578\n",
            " 16.78629731  8.14368605  8.41546964 17.07389919 15.17490551 17.03804958\n",
            "  7.55106244 11.78742415 15.90722523 15.51670397 11.97356771 15.03652102\n",
            " 13.06389078 17.18739803 17.1088969  12.36866165 16.60077796 15.5936156\n",
            " 17.32424571 13.04858555 16.98435296  7.32968409 17.21258872 16.69774229\n",
            "  7.3327203  17.04065157 11.25241746 10.49761494  7.27743139  8.50060966\n",
            " 17.01966082 13.58791419 17.13706638 11.59193154 12.83136724 14.06504215\n",
            " 16.38378511 12.10522693  9.98849694 17.42254669 17.40240739  7.09790147\n",
            " 11.18465318 16.55503486 11.69900123 17.09134921 13.97332067 15.90722523\n",
            "  8.15417063 10.04020221] [16.78814593  8.22314188 17.29575377 16.14493177 16.57484671 13.74020177\n",
            "  7.15283484 17.36548179 17.40240739  7.04478698  9.89156557 17.45350117\n",
            " 10.42063658 16.957143   16.43709629 17.38726255  7.61866439 15.81703454\n",
            "  8.42109763 10.61907449 17.41128402 13.90861146 16.71589027 17.24122758\n",
            " 16.93749796  7.5017755  10.43347915 16.6090272  10.74626809 15.24149882\n",
            " 17.46396515 16.2233883  13.98253045 15.54104865 16.984713   15.5936156\n",
            " 14.44627415  8.5120754   7.18244022  9.20721013 17.00476538 16.38378511\n",
            " 12.6674122  12.89399799 13.1953968  15.12474525 17.1736369   9.28914501\n",
            "  7.35750817 15.41062527  8.08664271 17.26268344 13.96871258 16.01946105\n",
            " 10.50402108 13.61666218  8.82460507  7.57057954 15.07860312 16.63894305\n",
            " 13.78258479 13.50595865 11.0917201  17.43004527 11.33817032  9.59514921]\n"
          ]
        }
      ]
    },
    {
      "cell_type": "code",
      "source": [
        "r2 = r2_score(Y_test,svr_test_pred)\n",
        "r2_train = r2_score(Y_train, svr_train_pred)\n",
        "rmse = np.sqrt(mean_squared_error(Y_test,svr_test_pred))\n",
        "variance = r2_train - r2\n",
        "Results = Results.append({\"Model\":\"Support Vector Machine\",\"Train R2\":r2_train,\"Test R2\":r2,\"Test RMSE\":rmse,\"Variance\":variance},ignore_index=True)\n",
        "print(\"R2:\",r2)\n",
        "print(\"RMSE:\",rmse),"
      ],
      "metadata": {
        "colab": {
          "base_uri": "https://localhost:8080/"
        },
        "id": "xCUWKma_VTlm",
        "outputId": "8117c58b-3eac-4038-8b21-b6a12a6e80e1"
      },
      "execution_count": null,
      "outputs": [
        {
          "output_type": "stream",
          "name": "stdout",
          "text": [
            "R2: 0.5828492710703753\n",
            "RMSE: 3.1931642094106265\n"
          ]
        },
        {
          "output_type": "execute_result",
          "data": {
            "text/plain": [
              "(None,)"
            ]
          },
          "metadata": {},
          "execution_count": 43
        }
      ]
    },
    {
      "cell_type": "code",
      "source": [
        "Results.head()"
      ],
      "metadata": {
        "colab": {
          "base_uri": "https://localhost:8080/",
          "height": 112
        },
        "id": "VWYHu3ewVTxg",
        "outputId": "20b998bc-bd7a-4906-9f9d-f324daa94495"
      },
      "execution_count": null,
      "outputs": [
        {
          "output_type": "execute_result",
          "data": {
            "text/plain": [
              "                    Model  Train R2   Test R2  Test RMSE  Variance\n",
              "0     K-Nearest Neighbors  0.649249  0.522031   3.418021  0.127218\n",
              "1  Support Vector Machine  0.571178  0.582849   3.193164 -0.011671"
            ],
            "text/html": [
              "\n",
              "  <div id=\"df-5cf6363e-8e30-4542-a6e8-96142458a6ba\">\n",
              "    <div class=\"colab-df-container\">\n",
              "      <div>\n",
              "<style scoped>\n",
              "    .dataframe tbody tr th:only-of-type {\n",
              "        vertical-align: middle;\n",
              "    }\n",
              "\n",
              "    .dataframe tbody tr th {\n",
              "        vertical-align: top;\n",
              "    }\n",
              "\n",
              "    .dataframe thead th {\n",
              "        text-align: right;\n",
              "    }\n",
              "</style>\n",
              "<table border=\"1\" class=\"dataframe\">\n",
              "  <thead>\n",
              "    <tr style=\"text-align: right;\">\n",
              "      <th></th>\n",
              "      <th>Model</th>\n",
              "      <th>Train R2</th>\n",
              "      <th>Test R2</th>\n",
              "      <th>Test RMSE</th>\n",
              "      <th>Variance</th>\n",
              "    </tr>\n",
              "  </thead>\n",
              "  <tbody>\n",
              "    <tr>\n",
              "      <th>0</th>\n",
              "      <td>K-Nearest Neighbors</td>\n",
              "      <td>0.649249</td>\n",
              "      <td>0.522031</td>\n",
              "      <td>3.418021</td>\n",
              "      <td>0.127218</td>\n",
              "    </tr>\n",
              "    <tr>\n",
              "      <th>1</th>\n",
              "      <td>Support Vector Machine</td>\n",
              "      <td>0.571178</td>\n",
              "      <td>0.582849</td>\n",
              "      <td>3.193164</td>\n",
              "      <td>-0.011671</td>\n",
              "    </tr>\n",
              "  </tbody>\n",
              "</table>\n",
              "</div>\n",
              "      <button class=\"colab-df-convert\" onclick=\"convertToInteractive('df-5cf6363e-8e30-4542-a6e8-96142458a6ba')\"\n",
              "              title=\"Convert this dataframe to an interactive table.\"\n",
              "              style=\"display:none;\">\n",
              "        \n",
              "  <svg xmlns=\"http://www.w3.org/2000/svg\" height=\"24px\"viewBox=\"0 0 24 24\"\n",
              "       width=\"24px\">\n",
              "    <path d=\"M0 0h24v24H0V0z\" fill=\"none\"/>\n",
              "    <path d=\"M18.56 5.44l.94 2.06.94-2.06 2.06-.94-2.06-.94-.94-2.06-.94 2.06-2.06.94zm-11 1L8.5 8.5l.94-2.06 2.06-.94-2.06-.94L8.5 2.5l-.94 2.06-2.06.94zm10 10l.94 2.06.94-2.06 2.06-.94-2.06-.94-.94-2.06-.94 2.06-2.06.94z\"/><path d=\"M17.41 7.96l-1.37-1.37c-.4-.4-.92-.59-1.43-.59-.52 0-1.04.2-1.43.59L10.3 9.45l-7.72 7.72c-.78.78-.78 2.05 0 2.83L4 21.41c.39.39.9.59 1.41.59.51 0 1.02-.2 1.41-.59l7.78-7.78 2.81-2.81c.8-.78.8-2.07 0-2.86zM5.41 20L4 18.59l7.72-7.72 1.47 1.35L5.41 20z\"/>\n",
              "  </svg>\n",
              "      </button>\n",
              "      \n",
              "  <style>\n",
              "    .colab-df-container {\n",
              "      display:flex;\n",
              "      flex-wrap:wrap;\n",
              "      gap: 12px;\n",
              "    }\n",
              "\n",
              "    .colab-df-convert {\n",
              "      background-color: #E8F0FE;\n",
              "      border: none;\n",
              "      border-radius: 50%;\n",
              "      cursor: pointer;\n",
              "      display: none;\n",
              "      fill: #1967D2;\n",
              "      height: 32px;\n",
              "      padding: 0 0 0 0;\n",
              "      width: 32px;\n",
              "    }\n",
              "\n",
              "    .colab-df-convert:hover {\n",
              "      background-color: #E2EBFA;\n",
              "      box-shadow: 0px 1px 2px rgba(60, 64, 67, 0.3), 0px 1px 3px 1px rgba(60, 64, 67, 0.15);\n",
              "      fill: #174EA6;\n",
              "    }\n",
              "\n",
              "    [theme=dark] .colab-df-convert {\n",
              "      background-color: #3B4455;\n",
              "      fill: #D2E3FC;\n",
              "    }\n",
              "\n",
              "    [theme=dark] .colab-df-convert:hover {\n",
              "      background-color: #434B5C;\n",
              "      box-shadow: 0px 1px 3px 1px rgba(0, 0, 0, 0.15);\n",
              "      filter: drop-shadow(0px 1px 2px rgba(0, 0, 0, 0.3));\n",
              "      fill: #FFFFFF;\n",
              "    }\n",
              "  </style>\n",
              "\n",
              "      <script>\n",
              "        const buttonEl =\n",
              "          document.querySelector('#df-5cf6363e-8e30-4542-a6e8-96142458a6ba button.colab-df-convert');\n",
              "        buttonEl.style.display =\n",
              "          google.colab.kernel.accessAllowed ? 'block' : 'none';\n",
              "\n",
              "        async function convertToInteractive(key) {\n",
              "          const element = document.querySelector('#df-5cf6363e-8e30-4542-a6e8-96142458a6ba');\n",
              "          const dataTable =\n",
              "            await google.colab.kernel.invokeFunction('convertToInteractive',\n",
              "                                                     [key], {});\n",
              "          if (!dataTable) return;\n",
              "\n",
              "          const docLinkHtml = 'Like what you see? Visit the ' +\n",
              "            '<a target=\"_blank\" href=https://colab.research.google.com/notebooks/data_table.ipynb>data table notebook</a>'\n",
              "            + ' to learn more about interactive tables.';\n",
              "          element.innerHTML = '';\n",
              "          dataTable['output_type'] = 'display_data';\n",
              "          await google.colab.output.renderOutput(dataTable, element);\n",
              "          const docLink = document.createElement('div');\n",
              "          docLink.innerHTML = docLinkHtml;\n",
              "          element.appendChild(docLink);\n",
              "        }\n",
              "      </script>\n",
              "    </div>\n",
              "  </div>\n",
              "  "
            ]
          },
          "metadata": {},
          "execution_count": 44
        }
      ]
    },
    {
      "cell_type": "code",
      "source": [
        "import statsmodels.api as sm"
      ],
      "metadata": {
        "id": "yXNNjIZVVutK"
      },
      "execution_count": null,
      "outputs": []
    },
    {
      "cell_type": "code",
      "source": [
        "X_train_constant = sm.add_constant(X_train)"
      ],
      "metadata": {
        "id": "GHtbaulzVwVO"
      },
      "execution_count": null,
      "outputs": []
    },
    {
      "cell_type": "code",
      "source": [
        "model = sm.OLS(Y_train, X_train_constant).fit()"
      ],
      "metadata": {
        "id": "3QFTx_EgVwdr"
      },
      "execution_count": null,
      "outputs": []
    },
    {
      "cell_type": "code",
      "source": [
        "model.params"
      ],
      "metadata": {
        "colab": {
          "base_uri": "https://localhost:8080/"
        },
        "id": "K_Gw4JBWVwrJ",
        "outputId": "4674eaff-2deb-4cd0-bfee-93a2127c5209"
      },
      "execution_count": null,
      "outputs": [
        {
          "output_type": "execute_result",
          "data": {
            "text/plain": [
              "const    7.028424\n",
              "x1       0.046699\n",
              "dtype: float64"
            ]
          },
          "metadata": {},
          "execution_count": 48
        }
      ]
    },
    {
      "cell_type": "code",
      "source": [
        "print(model.summary ())"
      ],
      "metadata": {
        "colab": {
          "base_uri": "https://localhost:8080/"
        },
        "id": "iVXNOfRnVw22",
        "outputId": "cfb917b2-0292-40f3-e1a9-1bad611e331a"
      },
      "execution_count": null,
      "outputs": [
        {
          "output_type": "stream",
          "name": "stdout",
          "text": [
            "                            OLS Regression Results                            \n",
            "==============================================================================\n",
            "Dep. Variable:                  Sales   R-squared:                       0.586\n",
            "Model:                            OLS   Adj. R-squared:                  0.583\n",
            "Method:                 Least Squares   F-statistic:                     186.9\n",
            "Date:                Fri, 07 Apr 2023   Prob (F-statistic):           4.72e-27\n",
            "Time:                        10:51:39   Log-Likelihood:                -355.17\n",
            "No. Observations:                 134   AIC:                             714.3\n",
            "Df Residuals:                     132   BIC:                             720.1\n",
            "Df Model:                           1                                         \n",
            "Covariance Type:            nonrobust                                         \n",
            "==============================================================================\n",
            "                 coef    std err          t      P>|t|      [0.025      0.975]\n",
            "------------------------------------------------------------------------------\n",
            "const          7.0284      0.587     11.981      0.000       5.868       8.189\n",
            "x1             0.0467      0.003     13.670      0.000       0.040       0.053\n",
            "==============================================================================\n",
            "Omnibus:                        1.104   Durbin-Watson:                   2.189\n",
            "Prob(Omnibus):                  0.576   Jarque-Bera (JB):                1.078\n",
            "Skew:                          -0.079   Prob(JB):                        0.583\n",
            "Kurtosis:                       2.590   Cond. No.                         338.\n",
            "==============================================================================\n",
            "\n",
            "Notes:\n",
            "[1] Standard Errors assume that the covariance matrix of the errors is correctly specified.\n"
          ]
        }
      ]
    },
    {
      "cell_type": "code",
      "source": [
        "plt.scatter(X_train, Y_train)\n",
        "plt.plot(X_train, 6.9955 + 0.0541 * X_train, 'y')\n",
        "plt.show()"
      ],
      "metadata": {
        "colab": {
          "base_uri": "https://localhost:8080/",
          "height": 430
        },
        "id": "BnThnsIgVxDb",
        "outputId": "917f565b-4a04-44d9-ea6b-058544bb7cee"
      },
      "execution_count": null,
      "outputs": [
        {
          "output_type": "display_data",
          "data": {
            "text/plain": [
              "<Figure size 640x480 with 1 Axes>"
            ],
            "image/png": "[encoded data removed]"
          },
          "metadata": {}
        }
      ]
    },
    {
      "cell_type": "code",
      "source": [
        "y_train_pred = model.predict(X_train_constant)\n",
        "res = (Y_train - y_train_pred)\n",
        "res"
      ],
      "metadata": {
        "colab": {
          "base_uri": "https://localhost:8080/"
        },
        "id": "5yMrog0DVxOW",
        "outputId": "ab0919b8-ed9d-4054-aea6-b80356a0cb90"
      },
      "execution_count": null,
      "outputs": [
        {
          "output_type": "execute_result",
          "data": {
            "text/plain": [
              "33    -2.031578\n",
              "71     0.244067\n",
              "93     3.454892\n",
              "84     4.701420\n",
              "178   -8.149933\n",
              "         ...   \n",
              "142    2.774530\n",
              "67    -0.133542\n",
              "97    -0.162999\n",
              "195   -1.212312\n",
              "18     1.040031\n",
              "Name: Sales, Length: 134, dtype: float64"
            ]
          },
          "metadata": {},
          "execution_count": 51
        }
      ]
    },
    {
      "cell_type": "code",
      "source": [
        "y_train_pred"
      ],
      "metadata": {
        "colab": {
          "base_uri": "https://localhost:8080/"
        },
        "id": "SYQjJ7n2VxXf",
        "outputId": "bb2087b9-1f08-426e-ffb1-848282a7786a"
      },
      "execution_count": null,
      "outputs": [
        {
          "output_type": "execute_result",
          "data": {
            "text/plain": [
              "array([19.43157802, 12.15593287, 18.74510829, 16.99857986, 19.94993271,\n",
              "       18.62836174, 16.31678   ,  7.83164056, 15.02789806, 13.90713115,\n",
              "       16.86782373, 11.42743438, 20.30484223, 11.58153983, 17.15268531,\n",
              "        8.36400484,  7.43470228, 17.86717421, 12.89844094,  7.06111332,\n",
              "       16.69036897, 10.19459079, 17.67570987, 17.41419759, 17.7457578 ,\n",
              "       16.35880876, 16.15333482, 11.91310004, 10.11520313, 15.47153496,\n",
              "       18.95525208, 13.38877646, 19.30549174, 14.01920784, 10.51681127,\n",
              "       20.6037134 , 10.55417017, 15.82644448, 14.65430909,  9.81166209,\n",
              "       18.31548098, 14.34142833,  7.36932421, 13.58024081,  7.83164056,\n",
              "        9.5268005 , 12.19796163, 14.97652958, 20.86989554,  7.4206927 ,\n",
              "       19.41289857, 14.10326536, 15.80309517, 10.45610306, 12.15593287,\n",
              "       10.32534692, 11.52083162, 18.24076318,  8.19588981,  9.28396768,\n",
              "       10.25062913, 10.59619893, 17.31613049, 18.64704119, 12.67895742,\n",
              "       18.23142346,  8.31263636, 18.2267536 , 16.07394717, 13.70165722,\n",
              "        7.64484608, 16.99391   ,  8.49943084, 20.2721532 ,  7.28059684,\n",
              "        7.39267353, 20.38422989, 19.23077395, 16.87249359,  7.8643296 ,\n",
              "        7.93437753, 11.24997962, 20.11337788, 16.35880876, 16.81645524,\n",
              "        8.80297188,  9.03646498, 17.29278118, 14.81775426, 17.22740311,\n",
              "        8.20055967, 11.56753024, 15.6629993 , 15.20535282, 11.71696583,\n",
              "       14.66364881, 12.65560811, 19.80983685, 19.95927244, 12.04385618,\n",
              "       20.70645037, 15.2940802 , 19.49228623, 12.64159853, 20.16941623,\n",
              "        7.90168849, 17.5729729 , 16.6856991 ,  7.90635836, 17.23207297,\n",
              "       11.15191252, 10.59152906,  7.81763098,  9.10651292, 17.19471407,\n",
              "       13.15061349, 17.41419759, 11.41342479, 12.44546432, 13.62693943,\n",
              "       16.25607179, 11.82437266, 10.22260996, 18.20340429, 18.11467691,\n",
              "        7.43003242, 11.10054403, 16.48489503, 11.49748231, 17.32547021,\n",
              "       13.53354219, 15.6629993 ,  8.8123116 , 10.25996885])"
            ]
          },
          "metadata": {},
          "execution_count": 52
        }
      ]
    },
    {
      "cell_type": "code",
      "source": [
        "fig = plt.figure()\n",
        "sns.distplot(res, bins = 15)\n",
        "fig.suptitle('error Terms', fontsize = 15)\n",
        "plt.xlabel( 'Difference in Y_train and y_train_pred', fontsize = 15)\n",
        "plt.show()"
      ],
      "metadata": {
        "colab": {
          "base_uri": "https://localhost:8080/",
          "height": 504
        },
        "id": "YnM21AEJVxhT",
        "outputId": "ccfe5a0e-cd3e-4b26-d9ca-0d1dbbc336fb"
      },
      "execution_count": null,
      "outputs": [
        {
          "output_type": "display_data",
          "data": {
            "text/plain": [
              "<Figure size 640x480 with 1 Axes>"
            ],
            "image/png": "[encoded data removed]"
          },
          "metadata": {}
        }
      ]
    },
    {
      "cell_type": "code",
      "source": [
        "plt.scatter(X_train, res)\n",
        "plt.show()"
      ],
      "metadata": {
        "colab": {
          "base_uri": "https://localhost:8080/",
          "height": 432
        },
        "id": "CyV7b9lOVxpf",
        "outputId": "d3ae8bbc-c098-45ba-fa98-92af87805427"
      },
      "execution_count": null,
      "outputs": [
        {
          "output_type": "display_data",
          "data": {
            "text/plain": [
              "<Figure size 640x480 with 1 Axes>"
            ],
            "image/png": "[encoded data removed]"
          },
          "metadata": {}
        }
      ]
    },
    {
      "cell_type": "code",
      "source": [
        "X_test_constant = sm.add_constant(X_test)\n",
        "y_pred = model.predict(X_test_constant)"
      ],
      "metadata": {
        "id": "avomLK_PWYeE"
      },
      "execution_count": null,
      "outputs": []
    },
    {
      "cell_type": "code",
      "source": [
        "y_pred"
      ],
      "metadata": {
        "colab": {
          "base_uri": "https://localhost:8080/"
        },
        "id": "B6BF_uQmWYlc",
        "outputId": "99485604-4538-462b-994c-2a167423ea63"
      },
      "execution_count": null,
      "outputs": [
        {
          "output_type": "execute_result",
          "data": {
            "text/plain": [
              "array([20.45894768,  8.87301981, 17.77377697, 15.95253075, 20.73913941,\n",
              "       13.30004908,  7.57479815, 17.9792509 , 18.11467691,  7.21988863,\n",
              "       10.15256203, 18.38552891, 10.53549072, 17.08730724, 16.32611972,\n",
              "       19.29615202,  8.27994732, 15.55559248,  9.04113485, 10.68025644,\n",
              "       18.1520358 , 13.46816412, 20.55701478, 17.63835097, 17.05461821,\n",
              "        8.13985146, 10.54483044, 16.55961283, 10.77365369, 14.89247206,\n",
              "       18.88053429, 16.05059786, 13.54288191, 15.23337199, 17.13400586,\n",
              "       15.2940802 , 14.02387771,  9.11585264,  7.64017622,  9.65288678,\n",
              "       20.13672719, 16.25607179, 12.30069859, 12.50150266, 12.77702453,\n",
              "       14.76171592, 17.48891538,  9.71359499,  7.94371725, 15.0839364 ,\n",
              "        8.7516034 , 17.68971945, 13.52887232, 15.7984253 , 10.59619893,\n",
              "       13.17863267,  9.36335533,  8.22390898, 14.71034744, 16.60164159,\n",
              "       13.34207784, 13.07122584, 11.0304961 , 18.24076318, 11.21729058,\n",
              "        9.93774837])"
            ]
          },
          "metadata": {},
          "execution_count": 57
        }
      ]
    },
    {
      "cell_type": "code",
      "source": [
        "from sklearn.metrics import mean_squared_error\n",
        "from sklearn.metrics import r2_score"
      ],
      "metadata": {
        "id": "bWYXoO9nWk3K"
      },
      "execution_count": null,
      "outputs": []
    },
    {
      "cell_type": "code",
      "source": [
        "np.sqrt(mean_squared_error(Y_test,y_pred))"
      ],
      "metadata": {
        "colab": {
          "base_uri": "https://localhost:8080/"
        },
        "id": "FTpsQvUTWlCn",
        "outputId": "02d68664-85dd-4f54-9f3e-1d5efd60cdf0"
      },
      "execution_count": null,
      "outputs": [
        {
          "output_type": "execute_result",
          "data": {
            "text/plain": [
              "2.842939505865826"
            ]
          },
          "metadata": {},
          "execution_count": 59
        }
      ]
    },
    {
      "cell_type": "code",
      "source": [
        "r2 = r2_score(Y_test,y_pred)\n",
        "r2"
      ],
      "metadata": {
        "colab": {
          "base_uri": "https://localhost:8080/"
        },
        "id": "vEjA27D9WlOq",
        "outputId": "a55365b9-bc81-4170-a74c-ffd953be75d9"
      },
      "execution_count": null,
      "outputs": [
        {
          "output_type": "execute_result",
          "data": {
            "text/plain": [
              "0.669336895992664"
            ]
          },
          "metadata": {},
          "execution_count": 60
        }
      ]
    },
    {
      "cell_type": "code",
      "source": [
        "plt.scatter(X_test, Y_test)\n",
        "plt.plot(X_test, 6.9955 + 0.0541 * X_test, 'y')\n",
        "plt.show()"
      ],
      "metadata": {
        "colab": {
          "base_uri": "https://localhost:8080/",
          "height": 430
        },
        "id": "FRSzHVkUWlaV",
        "outputId": "c82ecddf-f70d-4c9f-ee66-a5b21f427f68"
      },
      "execution_count": null,
      "outputs": [
        {
          "output_type": "display_data",
          "data": {
            "text/plain": [
              "<Figure size 640x480 with 1 Axes>"
            ],
            "image/png": "[encoded data removed]"
          },
          "metadata": {}
        }
      ]
    },
    {
      "cell_type": "code",
      "source": [],
      "metadata": {
        "id": "pmamVg8OWyp1"
      },
      "execution_count": null,
      "outputs": []
    }
  ]
}